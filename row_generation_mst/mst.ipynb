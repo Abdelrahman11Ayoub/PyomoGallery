{
 "metadata": {
  "name": "",
  "signature": "sha256:00ac39cb5e3d5ed5180e3ea2af26a3e543d7e6bc088656b284bb5b23b716298e"
 },
 "nbformat": 3,
 "nbformat_minor": 0,
 "worksheets": [
  {
   "cells": [
    {
     "cell_type": "code",
     "collapsed": false,
     "input": [
      "%load mst.py"
     ],
     "language": "python",
     "metadata": {},
     "outputs": [],
     "prompt_number": 1
    },
    {
     "cell_type": "code",
     "collapsed": false,
     "input": [
      "import pyomo\n",
      "import pyomo.opt\n",
      "import pyomo.environ as pe\n",
      "import pandas\n",
      "import networkx\n",
      "\n",
      "class MSTRowGeneration:\n",
      "    \"\"\"A class to find Minimum Spanning Tree using a row-generation algorithm.\"\"\"\n",
      "\n",
      "    def __init__(self, nfile):\n",
      "        \"\"\"The input is a CSV file describing the undirected network's edges.\"\"\"\n",
      "        self.df = pandas.read_csv(nfile)\n",
      "\n",
      "        self.createRelaxedModel()\n",
      "\n",
      "    def createRelaxedModel(self):\n",
      "        \"\"\"Create the relaxed model, without any subtour elimination constraints.\"\"\"\n",
      "        df = self.df\n",
      "        node_set = set( list( df.startNode ) + list(df.destNode) )\n",
      "\n",
      "        # Create the model and sets\n",
      "        m = pe.ConcreteModel()\n",
      "\n",
      "        df.set_index(['startNode','destNode'], inplace=True)\n",
      "        edge_set = df.index.unique()\n",
      "\n",
      "        m.edge_set = pe.Set(initialize=edge_set, dimen=2)\n",
      "        m.node_set = pe.Set(initialize=node_set)\n",
      "    \n",
      "        # Define variables\n",
      "        m.Y = pe.Var(m.edge_set, domain=pe.Binary)\n",
      "\n",
      "        # Objective\n",
      "        def obj_rule(m):\n",
      "            return sum( m.Y[e] * df.ix[e,'dist'] for e in m.edge_set)\n",
      "        m.OBJ = pe.Objective(rule=obj_rule, sense=pe.minimize)\n",
      "\n",
      "        # Add the n-1 constraint\n",
      "        def simple_const_rule(m):\n",
      "            return sum( m.Y[e] for e in m.edge_set ) == len(node_set) - 1\n",
      "        m.simpleConst = pe.Constraint(rule = simple_const_rule)\n",
      "       \n",
      "        # Empty constraint list for subtour elimination constraints\n",
      "        # This is where the generated rows will go\n",
      "        m.ccConstraints = pe.ConstraintList()\n",
      "\n",
      "        self.m = m\n",
      "\n",
      "    def convertYsToNetworkx(self):\n",
      "        \"\"\"Convert the model's Y variables into a networkx object.\"\"\"\n",
      "        ans = networkx.Graph()\n",
      "        edges = [e for e in self.m.edge_set if self.m.Y[e].value > .99]\n",
      "        ans.add_edges_from(edges)\n",
      "        return ans\n",
      "\n",
      "    def solve(self):\n",
      "        \"\"\"Solve for the MST, using row generation for subtour elimination constraints.\"\"\"\n",
      "        def createConstForCC(m, cc):\n",
      "            cc = dict.fromkeys(cc)\n",
      "            return sum( m.Y[e] for e in m.edge_set if ((e[0] in cc) and (e[1] in cc))) <= len(cc) - 1\n",
      "        \n",
      "        if not hasattr(self, 'solver'):\n",
      "            solver = pyomo.opt.SolverFactory('cplex')\n",
      "\n",
      "        done = False\n",
      "        while not done:\n",
      "            # Solve once and add subtour elimination constraints if necessary\n",
      "            # Finish when there are no more subtours\n",
      "            results = solver.solve(self.m, tee=False, keepfiles=False, options_string=\"mip_tolerances_integrality=1e-9 mip_tolerances_mipgap=0\")\n",
      "            # Construct a graph from the answer, and look for subtours\n",
      "            graph = self.convertYsToNetworkx()\n",
      "            ccs = list(networkx.connected_component_subgraphs(graph))\n",
      "            for cc in ccs:\n",
      "                print 'Adding constraint for connected component:'\n",
      "                print cc.nodes()\n",
      "                print createConstForCC(self.m, cc)\n",
      "                print '--------------\\n'\n",
      "                self.m.ccConstraints.add( createConstForCC(self.m, cc) )\n",
      "            if ccs[0].number_of_nodes() == len(self.m.node_set):\n",
      "                done = True\n",
      "\n",
      "if __name__ == '__main__':\n",
      "    mst = MSTRowGeneration('mst.csv')\n",
      "    mst.solve()\n"
     ],
     "language": "python",
     "metadata": {},
     "outputs": [
      {
       "output_type": "stream",
       "stream": "stdout",
       "text": [
        "Adding constraint for connected component:\n",
        "['A', 'B', 'E', 'D']\n",
        "Y[D,E] + Y[A,D] + Y[A,E] + Y[A,B] + Y[B,E] + Y[B,D]  <=  3.0\n",
        "--------------\n",
        "\n"
       ]
      },
      {
       "output_type": "stream",
       "stream": "stdout",
       "text": [
        "Adding constraint for connected component:\n",
        "['A', 'C', 'B', 'E', 'F']\n",
        "Y[C,F] + Y[E,F] + Y[A,E] + Y[E,C] + Y[A,B] + Y[B,E]  <=  4.0\n",
        "--------------\n",
        "\n"
       ]
      },
      {
       "output_type": "stream",
       "stream": "stdout",
       "text": [
        "Adding constraint for connected component:\n",
        "['A', 'C', 'B', 'E', 'D', 'F']\n",
        "Y[C,F] + Y[D,E] + Y[E,F] + Y[A,D] + Y[A,E] + Y[E,C] + Y[A,B] + Y[B,E] + Y[B,D]  <=  5.0\n",
        "--------------\n",
        "\n"
       ]
      }
     ],
     "prompt_number": 2
    },
    {
     "cell_type": "code",
     "collapsed": false,
     "input": [
      "mst.m.Y.pprint()"
     ],
     "language": "python",
     "metadata": {},
     "outputs": [
      {
       "output_type": "stream",
       "stream": "stdout",
       "text": [
        "Y : Size=9, Index=edge_set, Domain=Binary\n",
        "    Key        : Lower : Value : Upper : Fixed : Stale\n",
        "    ('A', 'B') :     0 :   1.0 :     1 : False : False\n",
        "    ('A', 'D') :     0 :   1.0 :     1 : False : False\n",
        "    ('A', 'E') :     0 :   0.0 :     1 : False : False\n",
        "    ('B', 'D') :     0 :   0.0 :     1 : False : False\n",
        "    ('B', 'E') :     0 :   1.0 :     1 : False : False\n",
        "    ('C', 'F') :     0 :   1.0 :     1 : False : False\n",
        "    ('D', 'E') :     0 :   0.0 :     1 : False : False\n",
        "    ('E', 'C') :     0 :   1.0 :     1 : False : False\n",
        "    ('E', 'F') :     0 :   0.0 :     1 : False : False\n"
       ]
      }
     ],
     "prompt_number": 3
    },
    {
     "cell_type": "code",
     "collapsed": false,
     "input": [
      "print mst.m.OBJ()"
     ],
     "language": "python",
     "metadata": {},
     "outputs": [
      {
       "output_type": "stream",
       "stream": "stdout",
       "text": [
        "16.0\n"
       ]
      }
     ],
     "prompt_number": 4
    },
    {
     "cell_type": "code",
     "collapsed": false,
     "input": [],
     "language": "python",
     "metadata": {},
     "outputs": []
    }
   ],
   "metadata": {}
  }
 ]
}